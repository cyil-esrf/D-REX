{
 "cells": [
  {
   "cell_type": "code",
   "execution_count": 1,
   "id": "faafb1d0-03a4-4ec3-abc7-2c0be4b3f2ec",
   "metadata": {
    "tags": []
   },
   "outputs": [],
   "source": [
    "import pyFAI\n",
    "import h5py\n",
    "import os\n",
    "import numpy as np\n",
    "import pylab as plt"
   ]
  },
  {
   "cell_type": "code",
   "execution_count": 2,
   "id": "69fb8ebf-acea-4ebf-a49f-84264fc77454",
   "metadata": {
    "tags": []
   },
   "outputs": [
    {
     "name": "stdout",
     "output_type": "stream",
     "text": [
      "\n",
      "Integrator: \n",
      " Detector FReLoN\t Spline= None\t PixelSize= 5.000e-05, 5.000e-05 m\n",
      "Wavelength= 3.757097e-11 m\n",
      "SampleDetDist= 1.990869e-01 m\tPONI= 4.189614e-02, 4.592846e-02 m\trot1=-0.036071  rot2=0.046451  rot3=0.000000 rad\n",
      "DirectBeamDist= 199.432 mm\tCenter: x=1062.257, y=1023.131 pix\tTilt= 3.369° tiltPlanRotation= 52.195° 𝛌= 0.376Å\n"
     ]
    }
   ],
   "source": [
    "ai = pyFAI.load(\"/home/esrf/aditya7c/fit_al_pomi.poni\")\n",
    "print(\"\\nIntegrator: \\n\", ai)"
   ]
  },
  {
   "cell_type": "code",
   "execution_count": 3,
   "id": "60b19dcc-d777-4dbc-8f75-541858e4e726",
   "metadata": {
    "tags": []
   },
   "outputs": [],
   "source": [
    "### image first\n",
    "\n",
    "datafile='/home/esrf/aditya7c/ihma587/id03/20241202/RAW_DATA/Forged_Al/Forged_Al_33keV_heating/Forged_Al_33keV_heating.h5'\n",
    "with h5py.File (datafile,'r') as hin:\n",
    "    data=hin['1.1/measurement/frelon1'][()]\n",
    "    pico4_1=hin['1.1/measurement/pico4'][()][0]\n",
    "    data=data[0]"
   ]
  },
  {
   "cell_type": "code",
   "execution_count": 4,
   "id": "8fb71542-ad20-4a83-aeaf-8eec58b6aca0",
   "metadata": {
    "tags": []
   },
   "outputs": [
    {
     "data": {
      "text/plain": [
       "1.180385e-07"
      ]
     },
     "execution_count": 4,
     "metadata": {},
     "output_type": "execute_result"
    }
   ],
   "source": [
    "pico4_1"
   ]
  },
  {
   "cell_type": "code",
   "execution_count": 5,
   "id": "c3f1de2a-81f6-4e92-8f43-8fcaf4d5fc61",
   "metadata": {
    "tags": []
   },
   "outputs": [
    {
     "name": "stdout",
     "output_type": "stream",
     "text": [
      "total detector intensity 141957158\n"
     ]
    }
   ],
   "source": [
    "print ('total detector intensity',np.sum(data[data>170]))"
   ]
  },
  {
   "cell_type": "code",
   "execution_count": 6,
   "id": "a04f3145-b04b-4f4e-9408-f3491f032039",
   "metadata": {
    "tags": []
   },
   "outputs": [
    {
     "name": "stdout",
     "output_type": "stream",
     "text": [
      "intensity_without_spots 141957158\n"
     ]
    }
   ],
   "source": [
    "#### Manual\n",
    "dataclean=data[data>170]\n",
    "image_without_spots=dataclean[dataclean<1500e1500]\n",
    "print ('intensity_without_spots',np.sum(image_without_spots))"
   ]
  },
  {
   "cell_type": "code",
   "execution_count": 7,
   "id": "d70d8fab-bbfa-48ad-bc3e-8f136ff02006",
   "metadata": {
    "tags": []
   },
   "outputs": [],
   "source": [
    "### image last\n",
    "\n",
    "\n",
    "datafile='/home/esrf/aditya7c/ihma587/id03/20241202/RAW_DATA/Forged_Al/Forged_Al_33keV_heating/Forged_Al_33keV_heating.h5'\n",
    "with h5py.File (datafile,'r') as hin:\n",
    "    data=hin['1.1/measurement/frelon1'][()]\n",
    "    pico4_2=hin['1.1/measurement/pico4'][()][-1]\n",
    "    data=data[121]"
   ]
  },
  {
   "cell_type": "code",
   "execution_count": 8,
   "id": "934d7b35-83b3-42e2-9b5a-f4b0c46e6ee9",
   "metadata": {
    "tags": []
   },
   "outputs": [
    {
     "data": {
      "text/plain": [
       "1.0044538957121256"
      ]
     },
     "execution_count": 8,
     "metadata": {},
     "output_type": "execute_result"
    }
   ],
   "source": [
    "pico4_1/pico4_2"
   ]
  },
  {
   "cell_type": "code",
   "execution_count": 9,
   "id": "5cc1417d-ba88-44f0-bd0e-043755c77967",
   "metadata": {
    "tags": []
   },
   "outputs": [
    {
     "name": "stdout",
     "output_type": "stream",
     "text": [
      "total detector intensity 140234320\n"
     ]
    }
   ],
   "source": [
    "print ('total detector intensity',np.sum(data[data>170]))"
   ]
  },
  {
   "cell_type": "code",
   "execution_count": 10,
   "id": "fc450238-2167-4834-ad1f-489546879767",
   "metadata": {
    "tags": []
   },
   "outputs": [
    {
     "data": {
      "text/plain": [
       "1.0122854234255922"
      ]
     },
     "execution_count": 10,
     "metadata": {},
     "output_type": "execute_result"
    }
   ],
   "source": [
    "(141957158/140234320)"
   ]
  },
  {
   "cell_type": "code",
   "execution_count": 11,
   "id": "9e04c99c-6c02-40d2-8537-e55b1023750d",
   "metadata": {
    "tags": []
   },
   "outputs": [],
   "source": [
    "### image last"
   ]
  },
  {
   "cell_type": "code",
   "execution_count": 12,
   "id": "b2c7b49c-614f-4a94-be4f-df9f13ff3a30",
   "metadata": {
    "tags": []
   },
   "outputs": [
    {
     "name": "stdout",
     "output_type": "stream",
     "text": [
      "intensity_without_spots 137929272\n"
     ]
    }
   ],
   "source": [
    "#### Manual\n",
    "dataclean=data[data>170]\n",
    "image_without_spots=dataclean[dataclean<2200]\n",
    "print ('intensity_without_spots',np.sum(image_without_spots))"
   ]
  },
  {
   "cell_type": "code",
   "execution_count": 13,
   "id": "1253d627-3d44-4cdc-83c3-1fb2a50e9423",
   "metadata": {
    "tags": []
   },
   "outputs": [
    {
     "name": "stdout",
     "output_type": "stream",
     "text": [
      "initial total intensity 141957158\n",
      "initial non spotty intensity 141957158\n",
      "final total intensity 140234320\n",
      "final non spotty intensity 137929272\n",
      "normalization factor 1.0122854234255922\n",
      "new final non spotty intensity 138536160.7968\n",
      "recrys_percentage 0.024098800309879494\n"
     ]
    }
   ],
   "source": [
    "#### calcualte recrystalliation percentage\n",
    "\n",
    "print ('initial total intensity',141957158)\n",
    "print ('initial non spotty intensity',141957158)\n",
    "print ('final total intensity',140234320)\n",
    "print ('final non spotty intensity',137929272)\n",
    "\n",
    "print ('normalization factor',141957158/140234320)\n",
    "print ('new final non spotty intensity',137929272*1.0044)\n",
    "\n",
    "\n",
    "print ('recrys_percentage',(141957158-138536160.7968)/141957158)"
   ]
  },
  {
   "cell_type": "code",
   "execution_count": 14,
   "id": "e70b9a33-ee70-48e3-b28b-3eecdb82aacd",
   "metadata": {
    "tags": []
   },
   "outputs": [
    {
     "name": "stdout",
     "output_type": "stream",
     "text": [
      "<KeysViewHDF5 ['current', 'elapsed_time', 'epoch', 'frelon1', 'frelon1_roi1', 'frelon1_roi1_avg', 'frelon1_roi1_max', 'frelon1_roi1_min', 'frelon1_roi1_std', 'frelon1_roi2', 'frelon1_roi2_avg', 'frelon1_roi2_max', 'frelon1_roi2_min', 'frelon1_roi2_std', 'frelon1_roi3', 'frelon1_roi3_avg', 'frelon1_roi3_max', 'frelon1_roi3_min', 'frelon1_roi3_std', 'frelon1_roi4', 'frelon1_roi4_avg', 'frelon1_roi4_max', 'frelon1_roi4_min', 'frelon1_roi4_std', 'nanodac1_heater', 'nanodac1_temp', 'pico3', 'pico4', 'sbcurr', 'sec']>\n"
     ]
    }
   ],
   "source": [
    "datafile='/home/esrf/aditya7c/ihma587/id03/20241202/RAW_DATA/Forged_Al/Forged_Al_heating2_nearfieldafter38sec/Forged_Al_heating2_nearfieldafter38sec.h5'\n",
    "with h5py.File (datafile,'r') as hout:\n",
    "    print (hout['2.1/measurement'].keys())\n",
    "    data=hout['2.1/measurement/frelon1'][()]\n",
    "    data=data[0]"
   ]
  },
  {
   "cell_type": "code",
   "execution_count": 15,
   "id": "5931d3c0-0adc-4868-942b-c399680b60d9",
   "metadata": {
    "tags": []
   },
   "outputs": [
    {
     "name": "stdout",
     "output_type": "stream",
     "text": [
      "total detector intensity 29005546\n"
     ]
    }
   ],
   "source": [
    "print ('total detector intensity',np.sum(data[data>115]))"
   ]
  },
  {
   "cell_type": "code",
   "execution_count": 16,
   "id": "e73dc691-fc3a-464e-a205-ddb0b5bddb7a",
   "metadata": {
    "tags": []
   },
   "outputs": [
    {
     "name": "stdout",
     "output_type": "stream",
     "text": [
      "intensity_without_spots 19831457\n"
     ]
    }
   ],
   "source": [
    "#### Manual\n",
    "dataclean=data[data>116]\n",
    "image_without_spots=dataclean[dataclean<300]\n",
    "print ('intensity_without_spots',np.sum(image_without_spots))"
   ]
  },
  {
   "cell_type": "code",
   "execution_count": 17,
   "id": "a3185671-1a7b-4409-9572-225ca78da209",
   "metadata": {
    "tags": []
   },
   "outputs": [
    {
     "data": {
      "text/plain": [
       "0.6837125906886911"
      ]
     },
     "execution_count": 17,
     "metadata": {},
     "output_type": "execute_result"
    }
   ],
   "source": [
    "19831457/29005546"
   ]
  },
  {
   "cell_type": "code",
   "execution_count": 18,
   "id": "61ee5293-b40b-4237-a3f6-1e89c888c0bb",
   "metadata": {
    "tags": []
   },
   "outputs": [
    {
     "name": "stdout",
     "output_type": "stream",
     "text": [
      "initial total intensity 141957158\n",
      "initial non spotty intensity 141957158\n",
      "final total intensity 29005546\n",
      "final non spotty intensity 19831457\n",
      "normalization factor 4.894138452005007\n",
      "new final non spotty intensity 97174139.30000001\n"
     ]
    }
   ],
   "source": [
    "#### calcualte recrystalliation percentage\n",
    "\n",
    "print ('initial total intensity',141957158)\n",
    "print ('initial non spotty intensity',141957158)\n",
    "print ('final total intensity',29005546)\n",
    "print ('final non spotty intensity',19831457)\n",
    "\n",
    "print ('normalization factor',141957158/29005546)\n",
    "print ('new final non spotty intensity',19831457*4.9)"
   ]
  },
  {
   "cell_type": "code",
   "execution_count": 19,
   "id": "61fecae7-5a7a-437e-bf61-101f5d3467fa",
   "metadata": {
    "tags": []
   },
   "outputs": [
    {
     "name": "stdout",
     "output_type": "stream",
     "text": [
      "recrys_percentage 0.31546854932105634\n"
     ]
    }
   ],
   "source": [
    "print ('recrys_percentage',(141957158-97174139.30000001)/141957158)"
   ]
  }
 ],
 "metadata": {
  "kernelspec": {
   "display_name": "Python 3 (main)",
   "language": "python",
   "name": "python3"
  },
  "language_info": {
   "codemirror_mode": {
    "name": "ipython",
    "version": 3
   },
   "file_extension": ".py",
   "mimetype": "text/x-python",
   "name": "python",
   "nbconvert_exporter": "python",
   "pygments_lexer": "ipython3",
   "version": "3.11.6"
  }
 },
 "nbformat": 4,
 "nbformat_minor": 5
}
